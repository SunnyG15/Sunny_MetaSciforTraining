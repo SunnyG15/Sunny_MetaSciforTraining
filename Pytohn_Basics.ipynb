{
  "nbformat": 4,
  "nbformat_minor": 0,
  "metadata": {
    "colab": {
      "provenance": []
    },
    "kernelspec": {
      "name": "python3",
      "display_name": "Python 3"
    },
    "language_info": {
      "name": "python"
    }
  },
  "cells": [
    {
      "cell_type": "code",
      "execution_count": null,
      "metadata": {
        "colab": {
          "base_uri": "https://localhost:8080/"
        },
        "id": "chX0SdYEwTr6",
        "outputId": "ab6fef24-3bdb-4232-b2f3-f41f47e1b8a2"
      },
      "outputs": [
        {
          "output_type": "stream",
          "name": "stdout",
          "text": [
            "Hello, World!\n"
          ]
        }
      ],
      "source": [
        "#Hello, World!\n",
        "print(\"Hello, World!\")"
      ]
    },
    {
      "cell_type": "code",
      "source": [
        "#Variables and Types\n",
        "x = 10\n",
        "y = \"Python\"\n",
        "print(\"x:\", x, \"Type:\", type(x))\n",
        "print(\"y:\", x, \"Type:\", type(y))"
      ],
      "metadata": {
        "colab": {
          "base_uri": "https://localhost:8080/"
        },
        "id": "zBjfkXFCxAp7",
        "outputId": "36c6218d-e772-4a40-9231-28e11cca7d8c"
      },
      "execution_count": null,
      "outputs": [
        {
          "output_type": "stream",
          "name": "stdout",
          "text": [
            "x: 10 Type: <class 'int'>\n",
            "y: 10 Type: <class 'str'>\n"
          ]
        }
      ]
    },
    {
      "cell_type": "code",
      "source": [
        "#Lists\n",
        "numbers = [7, 9, 13, 19, 31]\n",
        "total = sum(numbers)\n",
        "average = total / len(numbers)\n",
        "\n",
        "print(\"sum:\", total)\n",
        "print(\"average:\", average)"
      ],
      "metadata": {
        "colab": {
          "base_uri": "https://localhost:8080/"
        },
        "id": "CpwlAea2yNKM",
        "outputId": "25d263a6-157f-4a41-88ab-049e32c29ec2"
      },
      "execution_count": null,
      "outputs": [
        {
          "output_type": "stream",
          "name": "stdout",
          "text": [
            "sum: 79\n",
            "average: 15.8\n"
          ]
        }
      ]
    },
    {
      "cell_type": "code",
      "source": [
        "#Basic Operators\n",
        "a = int(input(\"1st number: \"))\n",
        "b = int(input(\"2nd number: \"))\n",
        "\n",
        "print(\"sum:\", a + b)\n",
        "print(\"difference:\", a - b)\n",
        "print(\"product:\", a * b)\n",
        "print(\"quotient:\", a / b if b != 0 else \"Division by zero error\")"
      ],
      "metadata": {
        "colab": {
          "base_uri": "https://localhost:8080/"
        },
        "id": "Zq5bRJRgy7GU",
        "outputId": "6e128545-0f26-4116-e11f-fbabe99c0130"
      },
      "execution_count": null,
      "outputs": [
        {
          "output_type": "stream",
          "name": "stdout",
          "text": [
            "1st number: 12\n",
            "2nd number: 15\n",
            "sum: 27\n",
            "difference: -3\n",
            "product: 180\n",
            "quotient: 0.8\n"
          ]
        }
      ]
    },
    {
      "cell_type": "code",
      "source": [
        "#String Formatting\n",
        "name = \"Alice\"\n",
        "age = 25\n",
        "print(\"%s is %d years old\" % (name, age))\n",
        "print(\"{} is {} years old\".format(name, age))\n",
        "print(f\"{name} is {age} years old\")"
      ],
      "metadata": {
        "colab": {
          "base_uri": "https://localhost:8080/"
        },
        "id": "WnUtYcKXzhFn",
        "outputId": "40fcebc2-d95c-4f2b-86d7-a24d4e0ef29b"
      },
      "execution_count": null,
      "outputs": [
        {
          "output_type": "stream",
          "name": "stdout",
          "text": [
            "Alice is 25 years old\n",
            "Alice is 25 years old\n",
            "Alice is 25 years old\n"
          ]
        }
      ]
    },
    {
      "cell_type": "code",
      "source": [
        "#Basic String Operations\n",
        "text = input(\"enter string: \")\n",
        "\n",
        "print(\"uppercase:\", text.upper())\n",
        "print(\"lowercase:\", text.lower())\n",
        "\n",
        "vowels = \"aeiouAEIOU\"\n",
        "count = sum(1 for char in text if char in vowels)\n",
        "print(\"number of vowels:\", count)\n",
        "\n",
        "print(\"Reversed:\", text[::-1])"
      ],
      "metadata": {
        "colab": {
          "base_uri": "https://localhost:8080/"
        },
        "id": "YfS9Siab0DeO",
        "outputId": "9222e308-88eb-4894-8025-444383afda4f"
      },
      "execution_count": null,
      "outputs": [
        {
          "output_type": "stream",
          "name": "stdout",
          "text": [
            "enter string: Hello World\n",
            "uppercase: HELLO WORLD\n",
            "lowercase: hello world\n",
            "number of vowels: 3\n",
            "Reversed: dlroW olleH\n"
          ]
        }
      ]
    },
    {
      "cell_type": "code",
      "source": [
        "#Conditions\n",
        "num = int(input(\"enter number: \"))\n",
        "\n",
        "if num % 2 == 0:\n",
        "    print(\"It is even\")\n",
        "else:\n",
        "    print(\"It is odd\")"
      ],
      "metadata": {
        "colab": {
          "base_uri": "https://localhost:8080/"
        },
        "id": "aHKFzsYN0s1N",
        "outputId": "bd97a1eb-eeec-4459-c3ed-425262cf29d1"
      },
      "execution_count": null,
      "outputs": [
        {
          "output_type": "stream",
          "name": "stdout",
          "text": [
            "enter number: 98\n",
            "It is even\n"
          ]
        }
      ]
    },
    {
      "cell_type": "code",
      "source": [
        "#Loops\n",
        "for num in range(2, 51):\n",
        "    is_prime = True\n",
        "    for i in range(2, int(num ** 0.5) + 1):\n",
        "        if num % i == 0:\n",
        "            is_prime = False\n",
        "            break\n",
        "    if is_prime:\n",
        "        print(num, end=\" \")"
      ],
      "metadata": {
        "colab": {
          "base_uri": "https://localhost:8080/"
        },
        "id": "XSB8VvMq07IR",
        "outputId": "202b2647-abd6-4cdb-b327-47d7f7025b2f"
      },
      "execution_count": null,
      "outputs": [
        {
          "output_type": "stream",
          "name": "stdout",
          "text": [
            "2 3 5 7 11 13 17 19 23 29 31 37 41 43 47 "
          ]
        }
      ]
    },
    {
      "cell_type": "code",
      "source": [
        "#Functions\n",
        "def factorial(n):\n",
        "    result = 1\n",
        "    for i in range(1, n + 1):\n",
        "        result *= i\n",
        "    return result\n",
        "\n",
        "n = int(input(\"enter a number: \"))\n",
        "print(\"factorial:\", factorial(n))"
      ],
      "metadata": {
        "colab": {
          "base_uri": "https://localhost:8080/"
        },
        "id": "LoLgEcGA1S5Z",
        "outputId": "7bd0aca3-9450-44b8-a4e9-b65a1a468b86"
      },
      "execution_count": null,
      "outputs": [
        {
          "output_type": "stream",
          "name": "stdout",
          "text": [
            "enter a number: 5\n",
            "factorial: 120\n"
          ]
        }
      ]
    },
    {
      "cell_type": "code",
      "source": [
        "#Classes and Objects\n",
        "class Car:\n",
        "    def __init__(self, brand, model, year):\n",
        "        self.brand = brand\n",
        "        self.model = model\n",
        "        self.year = year\n",
        "\n",
        "    def display_info(self):\n",
        "        print(f\"Car: {self.brand} {self.model}, Year: {self.year}\")\n",
        "\n",
        "my_car = Car(\"Honda\", \"Civic\", 2020)\n",
        "my_car.display_info()"
      ],
      "metadata": {
        "colab": {
          "base_uri": "https://localhost:8080/"
        },
        "id": "t7agZN822Yqo",
        "outputId": "95efe249-03bf-4e95-8320-fd18af130bb1"
      },
      "execution_count": null,
      "outputs": [
        {
          "output_type": "stream",
          "name": "stdout",
          "text": [
            "Car: Honda Civic, Year: 2020\n"
          ]
        }
      ]
    },
    {
      "cell_type": "code",
      "source": [
        "#Dictionaries\n",
        "students = {\"Sunny\": 70, \"Riya\": 92, \"Tanya\": 95}\n",
        "\n",
        "for name, score in students.items():\n",
        "    print(f\"{name}: {score}\")\n",
        "\n",
        "highest_score = max(students.values())\n",
        "print(\"highest score:\", highest_score)"
      ],
      "metadata": {
        "colab": {
          "base_uri": "https://localhost:8080/"
        },
        "id": "-EgvnhuR2cNc",
        "outputId": "3ca39ca0-f079-44a0-98ff-b12d9e61fa41"
      },
      "execution_count": null,
      "outputs": [
        {
          "output_type": "stream",
          "name": "stdout",
          "text": [
            "Sunny: 70\n",
            "Riya: 92\n",
            "Tanya: 95\n",
            "highest score: 95\n"
          ]
        }
      ]
    },
    {
      "cell_type": "code",
      "source": [
        "#Modules and Packages\n",
        "import math\n",
        "\n",
        "num = int(input(\"enter number: \"))\n",
        "print(\"square root:\", math.sqrt(num))\n",
        "print(\"factorial:\", math.factorial(num))"
      ],
      "metadata": {
        "colab": {
          "base_uri": "https://localhost:8080/"
        },
        "id": "CyvdNklf2dsG",
        "outputId": "0061f5b8-9a83-49e3-9f77-f3db155c0132"
      },
      "execution_count": null,
      "outputs": [
        {
          "output_type": "stream",
          "name": "stdout",
          "text": [
            "enter number: 4\n",
            "square root: 2.0\n",
            "factorial: 24\n"
          ]
        }
      ]
    },
    {
      "cell_type": "code",
      "source": [
        "#Input and Output\n",
        "name = input(\"enter name: \")\n",
        "age = input(\"enter age: \")\n",
        "print(f\"Hello {name}, you are {age} years old\")"
      ],
      "metadata": {
        "colab": {
          "base_uri": "https://localhost:8080/"
        },
        "id": "dstfLTfk2e8l",
        "outputId": "f696c0d6-4187-43bf-dda2-c290c78b0ac6"
      },
      "execution_count": null,
      "outputs": [
        {
          "output_type": "stream",
          "name": "stdout",
          "text": [
            "enter name: Sunny\n",
            "enter age: 22\n",
            "Hello Sunny, you are 22 years old\n"
          ]
        }
      ]
    }
  ]
}