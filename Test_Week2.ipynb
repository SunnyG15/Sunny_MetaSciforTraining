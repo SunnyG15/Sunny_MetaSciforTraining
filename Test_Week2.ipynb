{
  "nbformat": 4,
  "nbformat_minor": 0,
  "metadata": {
    "colab": {
      "provenance": [],
      "authorship_tag": "ABX9TyO2Sp6BM04KSPU43k45QrfD",
      "include_colab_link": true
    },
    "kernelspec": {
      "name": "python3",
      "display_name": "Python 3"
    },
    "language_info": {
      "name": "python"
    }
  },
  "cells": [
    {
      "cell_type": "markdown",
      "metadata": {
        "id": "view-in-github",
        "colab_type": "text"
      },
      "source": [
        "<a href=\"https://colab.research.google.com/github/SunnyG15/Sunny_MetaSciforTraining/blob/main/Test_Week2.ipynb\" target=\"_parent\"><img src=\"https://colab.research.google.com/assets/colab-badge.svg\" alt=\"Open In Colab\"/></a>"
      ]
    },
    {
      "cell_type": "markdown",
      "source": [
        "**Python** **Coding** **Questions**"
      ],
      "metadata": {
        "id": "gk2DozskwTvE"
      }
    },
    {
      "cell_type": "code",
      "execution_count": 2,
      "metadata": {
        "colab": {
          "base_uri": "https://localhost:8080/"
        },
        "id": "IBNMy2lIeWMv",
        "outputId": "68e5ffbf-c094-4ce4-bc89-0f6e8043ad49"
      },
      "outputs": [
        {
          "output_type": "stream",
          "name": "stdout",
          "text": [
            "Enter a number: 10\n",
            "Even\n"
          ]
        }
      ],
      "source": [
        "num = int(input(\"Enter a number: \"))\n",
        "if num % 2 == 0:\n",
        "    print(\"Even\")\n",
        "else:\n",
        "    print(\"Odd\")"
      ]
    },
    {
      "cell_type": "code",
      "source": [
        "s = input(\"Enter a string: \")\n",
        "reversed_s = \"\"\n",
        "for char in s:\n",
        "    reversed_s = char + reversed_s\n",
        "print(\"Reversed string:\", reversed_s)"
      ],
      "metadata": {
        "colab": {
          "base_uri": "https://localhost:8080/"
        },
        "id": "avBZ9weNjll8",
        "outputId": "7f874f2e-fe16-4cf1-c31b-aac001d82648"
      },
      "execution_count": 3,
      "outputs": [
        {
          "output_type": "stream",
          "name": "stdout",
          "text": [
            "Enter a string: Sunny\n",
            "Reversed string: ynnuS\n"
          ]
        }
      ]
    },
    {
      "cell_type": "code",
      "source": [
        "numbers = list(map(int, input(\"Enter numbers separated by spaces:\").split()))\n",
        "max_num = numbers[0]\n",
        "for num in numbers:\n",
        "    if num > max_num:\n",
        "        max_num = num\n",
        "print(\"Largest number:\", max_num)"
      ],
      "metadata": {
        "colab": {
          "base_uri": "https://localhost:8080/"
        },
        "id": "myU1-FP5jo8e",
        "outputId": "636b1f04-124f-4be9-d529-312a628ea341"
      },
      "execution_count": 6,
      "outputs": [
        {
          "output_type": "stream",
          "name": "stdout",
          "text": [
            "Enter numbers separated by spaces:123 457  234\n",
            "Largest number: 457\n"
          ]
        }
      ]
    },
    {
      "cell_type": "code",
      "source": [
        "s = input(\"enter string: \")\n",
        "is_palindrome = True\n",
        "for i in range(len(s) // 2):\n",
        "    if s[i] != s[-(i + 1)]:\n",
        "        is_palindrome = False\n",
        "        break\n",
        "print(\"Palindrome:\", is_palindrome)"
      ],
      "metadata": {
        "colab": {
          "base_uri": "https://localhost:8080/"
        },
        "id": "spknMPnwj4Md",
        "outputId": "ef1f121e-405a-4fe8-a1bf-69c56c26f6b4"
      },
      "execution_count": 10,
      "outputs": [
        {
          "output_type": "stream",
          "name": "stdout",
          "text": [
            "enter string: racecar\n",
            "Palindrome: True\n"
          ]
        }
      ]
    },
    {
      "cell_type": "code",
      "source": [
        "s = input(\"enter string: \")\n",
        "char_count = {}\n",
        "for char in s:\n",
        "    char_count[char] = char_count.get(char, 0) + 1\n",
        "print(\"Character occurrences:\", char_count)"
      ],
      "metadata": {
        "colab": {
          "base_uri": "https://localhost:8080/"
        },
        "id": "bNvaGU0rkFZy",
        "outputId": "27fc5b0b-67ff-48a1-a9df-18f416f19715"
      },
      "execution_count": 9,
      "outputs": [
        {
          "output_type": "stream",
          "name": "stdout",
          "text": [
            "enter string: Automatic\n",
            "Character occurrences: {'A': 1, 'u': 1, 't': 2, 'o': 1, 'm': 1, 'a': 1, 'i': 1, 'c': 1}\n"
          ]
        }
      ]
    },
    {
      "cell_type": "markdown",
      "source": [
        "**OOPS** **Questions**"
      ],
      "metadata": {
        "id": "gpT1PfFYke9A"
      }
    },
    {
      "cell_type": "markdown",
      "source": [
        "Difference between a Class and an Object\n",
        "A class is a blueprint that defines the properties and behaviors of objects. It does not store any actual data. Instead, it defines how an object should behave.\n",
        "\n",
        "An object is an instance of a class. It is a real world entity that holds specific values and follows the structure defined by the class.\n",
        "\n",
        "Example: A \"Car\" class defines attributes like brand and model, but an object like my_car could be a Toyota Corolla, which has actual values assigned."
      ],
      "metadata": {
        "id": "oeruxTswlbdM"
      }
    },
    {
      "cell_type": "code",
      "source": [
        "class Car:\n",
        "    def __init__(self, brand):\n",
        "        self.brand = brand\n",
        "\n",
        "my_car = Car(\"Maruti\")\n",
        "print(\"Car brand:\", my_car.brand)"
      ],
      "metadata": {
        "colab": {
          "base_uri": "https://localhost:8080/"
        },
        "id": "J5oEhwMXkdqP",
        "outputId": "0293ee24-1886-4cf1-f140-82d086e2d09e"
      },
      "execution_count": 16,
      "outputs": [
        {
          "output_type": "stream",
          "name": "stdout",
          "text": [
            "Car brand: Maruti\n"
          ]
        }
      ]
    },
    {
      "cell_type": "markdown",
      "source": [
        "Inheritance is a key feature of object oriented programming that allows one class (child) to inherit properties and methods from another class (parent).\n",
        "This helps in code reusability, hierarchical structuring of code, creating specialized classes from a general class.\n",
        "Example: A Vehicle class may have common attributes like speed and fuel. A Car class can inherit from Vehicle and add its own specific attributes like air_conditioning."
      ],
      "metadata": {
        "id": "q-i1dPkcpD2m"
      }
    },
    {
      "cell_type": "code",
      "source": [
        "class Animal:\n",
        "    def speak(self):\n",
        "        print(\"Animal makes a sound\")\n",
        "\n",
        "class Dog(Animal):\n",
        "    def speak(self):\n",
        "        print(\"Dog barks\")\n",
        "\n",
        "dog = Dog()\n",
        "dog.speak()"
      ],
      "metadata": {
        "colab": {
          "base_uri": "https://localhost:8080/"
        },
        "id": "GGYLkG9HqOtW",
        "outputId": "61ff87db-2af9-43cb-f7bd-d13b8f87593f"
      },
      "execution_count": 12,
      "outputs": [
        {
          "output_type": "stream",
          "name": "stdout",
          "text": [
            "Dog barks\n"
          ]
        }
      ]
    },
    {
      "cell_type": "markdown",
      "source": [
        "Method overriding occurs when a child class redefines a method from the parent class with a different implementation.\n",
        "This allows the child class to provide a more specific or modified behavior while still using the structure of the parent class. It is useful when the child class needs a different functionality than the parent and if the parent class provides a generic implementation, but the child requires customization.\n",
        "Example : A Bird class might have a fly() method, but a Penguin (which inherits from Bird) can override it to display \"Penguins can't fly.\""
      ],
      "metadata": {
        "id": "3d-Y4QvqsJrf"
      }
    },
    {
      "cell_type": "code",
      "source": [
        "class Parent:\n",
        "    def show(self):\n",
        "        print(\"This is the parent class\")\n",
        "\n",
        "class Child(Parent):\n",
        "    def show(self):\n",
        "        print(\"This is the child class\")\n",
        "\n",
        "obj = Child()\n",
        "obj.show()"
      ],
      "metadata": {
        "colab": {
          "base_uri": "https://localhost:8080/"
        },
        "id": "b-Dcygvyt6v2",
        "outputId": "6055b22a-24f4-4c00-976f-6e36ac4bdbd2"
      },
      "execution_count": 13,
      "outputs": [
        {
          "output_type": "stream",
          "name": "stdout",
          "text": [
            "This is the child class\n"
          ]
        }
      ]
    },
    {
      "cell_type": "markdown",
      "source": [
        "Instance Method : Works with object-specific data and requires self.\n",
        "Example: A Student class having get_grades() that fetches grades for a particular student.\n",
        "\n",
        "Class Method : Works with class-level data and uses cls.\n",
        "Example: A method that keeps track of the total number of students in a school.\n",
        "\n",
        "Static Method : Independent function inside a class; it does not modify class or instance attributes.\n",
        "Example: A utility function to validate email formats inside a User class.\n",
        "Each method serves a different purpose based on whether it deals with instance attributes, class-wide properties, or general utilities."
      ],
      "metadata": {
        "id": "fMBaGWfMuIG8"
      }
    },
    {
      "cell_type": "code",
      "source": [
        "class Example:\n",
        "    def instance_method(self):\n",
        "        print(\"Instance method called\")\n",
        "\n",
        "    @classmethod\n",
        "    def class_method(cls):\n",
        "        print(\"Class method called\")\n",
        "\n",
        "    @staticmethod\n",
        "    def static_method():\n",
        "        print(\"Static method called\")\n",
        "\n",
        "obj = Example()\n",
        "obj.instance_method()\n",
        "Example.class_method()\n",
        "Example.static_method()"
      ],
      "metadata": {
        "colab": {
          "base_uri": "https://localhost:8080/"
        },
        "id": "XXn5e2vTuHNT",
        "outputId": "7f8363d7-be14-4476-84b2-c47a8211d32e"
      },
      "execution_count": 14,
      "outputs": [
        {
          "output_type": "stream",
          "name": "stdout",
          "text": [
            "Instance method called\n",
            "Class method called\n",
            "Static method called\n"
          ]
        }
      ]
    },
    {
      "cell_type": "markdown",
      "source": [
        "Encapsulation is the concept of restricting direct access to certain data within a class and only allowing access through controlled methods. Encapsulation ensures that the internal implementation of a class is protected and modular, making code more reliable.\n",
        "Some benefits of it are:\n",
        "\n",
        "1) Prevents direct modification of sensitive data.\n",
        "\n",
        "2) Users interact with the class through methods, not direct variables.\n",
        "\n",
        "3) Allows controlled modifications using getter and setter methods.\n",
        "\n",
        "Example: A BankAccount class may have a private balance variable that can only be accessed or modified through deposit and withdrawal methods, preventing unauthorized access."
      ],
      "metadata": {
        "id": "_cmSVqGgu2Pv"
      }
    },
    {
      "cell_type": "code",
      "source": [
        "class BankAccount:\n",
        "    def __init__(self, balance):\n",
        "        self.__balance = balance\n",
        "\n",
        "    def get_balance(self):\n",
        "        return self.__balance\n",
        "\n",
        "    def deposit(self, amount):\n",
        "        self.__balance += amount\n",
        "\n",
        "account = BankAccount(1000)\n",
        "print(\"Balance:\", account.get_balance())\n",
        "account.deposit(500)\n",
        "print(\"Updated Balance:\", account.get_balance())"
      ],
      "metadata": {
        "colab": {
          "base_uri": "https://localhost:8080/"
        },
        "id": "YMCWf__hvAlP",
        "outputId": "9430ae3d-7692-48c9-d3ca-422187574129"
      },
      "execution_count": 15,
      "outputs": [
        {
          "output_type": "stream",
          "name": "stdout",
          "text": [
            "Balance: 1000\n",
            "Updated Balance: 1500\n"
          ]
        }
      ]
    }
  ]
}